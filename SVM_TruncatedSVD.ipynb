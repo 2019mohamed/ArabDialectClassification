{
  "cells": [
    {
      "cell_type": "markdown",
      "metadata": {
        "id": "view-in-github",
        "colab_type": "text"
      },
      "source": [
        "<a href=\"https://colab.research.google.com/github/2019mohamed/ArabDialectClassification/blob/master/SVM_TruncatedSVD.ipynb\" target=\"_parent\"><img src=\"https://colab.research.google.com/assets/colab-badge.svg\" alt=\"Open In Colab\"/></a>"
      ]
    },
    {
      "cell_type": "code",
      "execution_count": null,
      "metadata": {
        "colab": {
          "base_uri": "https://localhost:8080/",
          "height": 424
        },
        "id": "VtWHppXFZ6qB",
        "outputId": "60196e06-aa6a-4491-a3ec-dee6db6ff11b"
      },
      "outputs": [
        {
          "output_type": "execute_result",
          "data": {
            "text/html": [
              "\n",
              "  <div id=\"df-60db3e6d-50c4-4adc-ac8f-3b0d6f6a6ad6\">\n",
              "    <div class=\"colab-df-container\">\n",
              "      <div>\n",
              "<style scoped>\n",
              "    .dataframe tbody tr th:only-of-type {\n",
              "        vertical-align: middle;\n",
              "    }\n",
              "\n",
              "    .dataframe tbody tr th {\n",
              "        vertical-align: top;\n",
              "    }\n",
              "\n",
              "    .dataframe thead th {\n",
              "        text-align: right;\n",
              "    }\n",
              "</style>\n",
              "<table border=\"1\" class=\"dataframe\">\n",
              "  <thead>\n",
              "    <tr style=\"text-align: right;\">\n",
              "      <th></th>\n",
              "      <th>new_text</th>\n",
              "      <th>label</th>\n",
              "    </tr>\n",
              "  </thead>\n",
              "  <tbody>\n",
              "    <tr>\n",
              "      <th>0</th>\n",
              "      <td>بالنهايه ينتفض يغير</td>\n",
              "      <td>0</td>\n",
              "    </tr>\n",
              "    <tr>\n",
              "      <th>1</th>\n",
              "      <td>يعني محسوب البشر حيونه ووحشيه وتطلبون الغرب يح...</td>\n",
              "      <td>0</td>\n",
              "    </tr>\n",
              "    <tr>\n",
              "      <th>2</th>\n",
              "      <td>مبين كلامه خليجي</td>\n",
              "      <td>0</td>\n",
              "    </tr>\n",
              "    <tr>\n",
              "      <th>3</th>\n",
              "      <td>يسلملي مرورك وروحك الحلوه</td>\n",
              "      <td>0</td>\n",
              "    </tr>\n",
              "    <tr>\n",
              "      <th>4</th>\n",
              "      <td>وين الغيبه اخ محمد</td>\n",
              "      <td>0</td>\n",
              "    </tr>\n",
              "    <tr>\n",
              "      <th>...</th>\n",
              "      <td>...</td>\n",
              "      <td>...</td>\n",
              "    </tr>\n",
              "    <tr>\n",
              "      <th>458192</th>\n",
              "      <td>مبسوطين منك اللي باسطانا</td>\n",
              "      <td>17</td>\n",
              "    </tr>\n",
              "    <tr>\n",
              "      <th>458193</th>\n",
              "      <td>والله ماينده ابش يختي</td>\n",
              "      <td>17</td>\n",
              "    </tr>\n",
              "    <tr>\n",
              "      <th>458194</th>\n",
              "      <td>شو عملنا حنا تهربي مننا احنا مساكين ليش بتعملي...</td>\n",
              "      <td>17</td>\n",
              "    </tr>\n",
              "    <tr>\n",
              "      <th>458195</th>\n",
              "      <td>الله يبارك وبالعافيه</td>\n",
              "      <td>17</td>\n",
              "    </tr>\n",
              "    <tr>\n",
              "      <th>458196</th>\n",
              "      <td>السحله ضيفي بتطلع سحليه</td>\n",
              "      <td>17</td>\n",
              "    </tr>\n",
              "  </tbody>\n",
              "</table>\n",
              "<p>458197 rows × 2 columns</p>\n",
              "</div>\n",
              "      <button class=\"colab-df-convert\" onclick=\"convertToInteractive('df-60db3e6d-50c4-4adc-ac8f-3b0d6f6a6ad6')\"\n",
              "              title=\"Convert this dataframe to an interactive table.\"\n",
              "              style=\"display:none;\">\n",
              "        \n",
              "  <svg xmlns=\"http://www.w3.org/2000/svg\" height=\"24px\"viewBox=\"0 0 24 24\"\n",
              "       width=\"24px\">\n",
              "    <path d=\"M0 0h24v24H0V0z\" fill=\"none\"/>\n",
              "    <path d=\"M18.56 5.44l.94 2.06.94-2.06 2.06-.94-2.06-.94-.94-2.06-.94 2.06-2.06.94zm-11 1L8.5 8.5l.94-2.06 2.06-.94-2.06-.94L8.5 2.5l-.94 2.06-2.06.94zm10 10l.94 2.06.94-2.06 2.06-.94-2.06-.94-.94-2.06-.94 2.06-2.06.94z\"/><path d=\"M17.41 7.96l-1.37-1.37c-.4-.4-.92-.59-1.43-.59-.52 0-1.04.2-1.43.59L10.3 9.45l-7.72 7.72c-.78.78-.78 2.05 0 2.83L4 21.41c.39.39.9.59 1.41.59.51 0 1.02-.2 1.41-.59l7.78-7.78 2.81-2.81c.8-.78.8-2.07 0-2.86zM5.41 20L4 18.59l7.72-7.72 1.47 1.35L5.41 20z\"/>\n",
              "  </svg>\n",
              "      </button>\n",
              "      \n",
              "  <style>\n",
              "    .colab-df-container {\n",
              "      display:flex;\n",
              "      flex-wrap:wrap;\n",
              "      gap: 12px;\n",
              "    }\n",
              "\n",
              "    .colab-df-convert {\n",
              "      background-color: #E8F0FE;\n",
              "      border: none;\n",
              "      border-radius: 50%;\n",
              "      cursor: pointer;\n",
              "      display: none;\n",
              "      fill: #1967D2;\n",
              "      height: 32px;\n",
              "      padding: 0 0 0 0;\n",
              "      width: 32px;\n",
              "    }\n",
              "\n",
              "    .colab-df-convert:hover {\n",
              "      background-color: #E2EBFA;\n",
              "      box-shadow: 0px 1px 2px rgba(60, 64, 67, 0.3), 0px 1px 3px 1px rgba(60, 64, 67, 0.15);\n",
              "      fill: #174EA6;\n",
              "    }\n",
              "\n",
              "    [theme=dark] .colab-df-convert {\n",
              "      background-color: #3B4455;\n",
              "      fill: #D2E3FC;\n",
              "    }\n",
              "\n",
              "    [theme=dark] .colab-df-convert:hover {\n",
              "      background-color: #434B5C;\n",
              "      box-shadow: 0px 1px 3px 1px rgba(0, 0, 0, 0.15);\n",
              "      filter: drop-shadow(0px 1px 2px rgba(0, 0, 0, 0.3));\n",
              "      fill: #FFFFFF;\n",
              "    }\n",
              "  </style>\n",
              "\n",
              "      <script>\n",
              "        const buttonEl =\n",
              "          document.querySelector('#df-60db3e6d-50c4-4adc-ac8f-3b0d6f6a6ad6 button.colab-df-convert');\n",
              "        buttonEl.style.display =\n",
              "          google.colab.kernel.accessAllowed ? 'block' : 'none';\n",
              "\n",
              "        async function convertToInteractive(key) {\n",
              "          const element = document.querySelector('#df-60db3e6d-50c4-4adc-ac8f-3b0d6f6a6ad6');\n",
              "          const dataTable =\n",
              "            await google.colab.kernel.invokeFunction('convertToInteractive',\n",
              "                                                     [key], {});\n",
              "          if (!dataTable) return;\n",
              "\n",
              "          const docLinkHtml = 'Like what you see? Visit the ' +\n",
              "            '<a target=\"_blank\" href=https://colab.research.google.com/notebooks/data_table.ipynb>data table notebook</a>'\n",
              "            + ' to learn more about interactive tables.';\n",
              "          element.innerHTML = '';\n",
              "          dataTable['output_type'] = 'display_data';\n",
              "          await google.colab.output.renderOutput(dataTable, element);\n",
              "          const docLink = document.createElement('div');\n",
              "          docLink.innerHTML = docLinkHtml;\n",
              "          element.appendChild(docLink);\n",
              "        }\n",
              "      </script>\n",
              "    </div>\n",
              "  </div>\n",
              "  "
            ],
            "text/plain": [
              "                                                 new_text  label\n",
              "0                                     بالنهايه ينتفض يغير      0\n",
              "1       يعني محسوب البشر حيونه ووحشيه وتطلبون الغرب يح...      0\n",
              "2                                        مبين كلامه خليجي      0\n",
              "3                               يسلملي مرورك وروحك الحلوه      0\n",
              "4                                      وين الغيبه اخ محمد      0\n",
              "...                                                   ...    ...\n",
              "458192                           مبسوطين منك اللي باسطانا     17\n",
              "458193                              والله ماينده ابش يختي     17\n",
              "458194  شو عملنا حنا تهربي مننا احنا مساكين ليش بتعملي...     17\n",
              "458195                               الله يبارك وبالعافيه     17\n",
              "458196                            السحله ضيفي بتطلع سحليه     17\n",
              "\n",
              "[458197 rows x 2 columns]"
            ]
          },
          "metadata": {},
          "execution_count": 1
        }
      ],
      "source": [
        "import pandas as pd\n",
        "df = pd.read_csv('/content/drive/MyDrive/two_clo_dialect_dataset.csv')\n",
        "df"
      ]
    },
    {
      "cell_type": "code",
      "execution_count": null,
      "metadata": {
        "id": "rzkgeo7guwUM"
      },
      "outputs": [],
      "source": [
        "corpus = df['new_text'].astype('str').tolist()\n",
        "labels = df['label'].tolist()"
      ]
    },
    {
      "cell_type": "code",
      "execution_count": null,
      "metadata": {
        "colab": {
          "base_uri": "https://localhost:8080/"
        },
        "id": "8xKp70ZNprV0",
        "outputId": "5d757fe3-c253-4920-8ff1-98de17b05e57"
      },
      "outputs": [
        {
          "output_type": "stream",
          "name": "stdout",
          "text": [
            "11    57636\n",
            "3     43742\n",
            "13    42109\n",
            "1     36499\n",
            "2     31069\n",
            "6     27921\n",
            "12    27617\n",
            "8     26832\n",
            "16    26296\n",
            "17    26292\n",
            "14    19116\n",
            "4     16242\n",
            "10    16183\n",
            "0     15497\n",
            "15    14434\n",
            "7     11539\n",
            "9      9927\n",
            "5      9246\n",
            "Name: label, dtype: int64\n",
            "-----------------------\n",
            "[0, 15497, 51996, 83065, 126807, 143049, 152295, 180216, 191755, 218587, 228514, 244697, 302333, 329950, 372059, 391175, 405609, 431905]\n",
            "[(0, 15497), (15497, 51996), (51996, 83065), (83065, 126807), (126807, 143049), (143049, 152295), (152295, 180216), (180216, 191755), (191755, 218587), (218587, 228514), (228514, 244697), (244697, 302333), (302333, 329950), (329950, 372059), (372059, 391175), (391175, 405609), (405609, 431905), (431905, 458197)]\n",
            "0   -------------------\n",
            "0        0\n",
            "1        0\n",
            "2        0\n",
            "3        0\n",
            "4        0\n",
            "        ..\n",
            "15492    0\n",
            "15493    0\n",
            "15494    0\n",
            "15495    0\n",
            "15496    0\n",
            "Name: label, Length: 15497, dtype: int64\n",
            "1   -------------------\n",
            "15497    1\n",
            "15498    1\n",
            "15499    1\n",
            "15500    1\n",
            "15501    1\n",
            "        ..\n",
            "51991    1\n",
            "51992    1\n",
            "51993    1\n",
            "51994    1\n",
            "51995    1\n",
            "Name: label, Length: 36499, dtype: int64\n",
            "2   -------------------\n",
            "51996    2\n",
            "51997    2\n",
            "51998    2\n",
            "51999    2\n",
            "52000    2\n",
            "        ..\n",
            "83060    2\n",
            "83061    2\n",
            "83062    2\n",
            "83063    2\n",
            "83064    2\n",
            "Name: label, Length: 31069, dtype: int64\n",
            "3   -------------------\n",
            "83065     3\n",
            "83066     3\n",
            "83067     3\n",
            "83068     3\n",
            "83069     3\n",
            "         ..\n",
            "126802    3\n",
            "126803    3\n",
            "126804    3\n",
            "126805    3\n",
            "126806    3\n",
            "Name: label, Length: 43742, dtype: int64\n",
            "4   -------------------\n",
            "126807    4\n",
            "126808    4\n",
            "126809    4\n",
            "126810    4\n",
            "126811    4\n",
            "         ..\n",
            "143044    4\n",
            "143045    4\n",
            "143046    4\n",
            "143047    4\n",
            "143048    4\n",
            "Name: label, Length: 16242, dtype: int64\n",
            "5   -------------------\n",
            "143049    5\n",
            "143050    5\n",
            "143051    5\n",
            "143052    5\n",
            "143053    5\n",
            "         ..\n",
            "152290    5\n",
            "152291    5\n",
            "152292    5\n",
            "152293    5\n",
            "152294    5\n",
            "Name: label, Length: 9246, dtype: int64\n",
            "6   -------------------\n",
            "152295    6\n",
            "152296    6\n",
            "152297    6\n",
            "152298    6\n",
            "152299    6\n",
            "         ..\n",
            "180211    6\n",
            "180212    6\n",
            "180213    6\n",
            "180214    6\n",
            "180215    6\n",
            "Name: label, Length: 27921, dtype: int64\n",
            "7   -------------------\n",
            "180216    7\n",
            "180217    7\n",
            "180218    7\n",
            "180219    7\n",
            "180220    7\n",
            "         ..\n",
            "191750    7\n",
            "191751    7\n",
            "191752    7\n",
            "191753    7\n",
            "191754    7\n",
            "Name: label, Length: 11539, dtype: int64\n",
            "8   -------------------\n",
            "191755    8\n",
            "191756    8\n",
            "191757    8\n",
            "191758    8\n",
            "191759    8\n",
            "         ..\n",
            "218582    8\n",
            "218583    8\n",
            "218584    8\n",
            "218585    8\n",
            "218586    8\n",
            "Name: label, Length: 26832, dtype: int64\n",
            "9   -------------------\n",
            "218587    9\n",
            "218588    9\n",
            "218589    9\n",
            "218590    9\n",
            "218591    9\n",
            "         ..\n",
            "228509    9\n",
            "228510    9\n",
            "228511    9\n",
            "228512    9\n",
            "228513    9\n",
            "Name: label, Length: 9927, dtype: int64\n",
            "10   -------------------\n",
            "228514    10\n",
            "228515    10\n",
            "228516    10\n",
            "228517    10\n",
            "228518    10\n",
            "          ..\n",
            "244692    10\n",
            "244693    10\n",
            "244694    10\n",
            "244695    10\n",
            "244696    10\n",
            "Name: label, Length: 16183, dtype: int64\n",
            "11   -------------------\n",
            "244697    11\n",
            "244698    11\n",
            "244699    11\n",
            "244700    11\n",
            "244701    11\n",
            "          ..\n",
            "302328    11\n",
            "302329    11\n",
            "302330    11\n",
            "302331    11\n",
            "302332    11\n",
            "Name: label, Length: 57636, dtype: int64\n",
            "12   -------------------\n",
            "302333    12\n",
            "302334    12\n",
            "302335    12\n",
            "302336    12\n",
            "302337    12\n",
            "          ..\n",
            "329945    12\n",
            "329946    12\n",
            "329947    12\n",
            "329948    12\n",
            "329949    12\n",
            "Name: label, Length: 27617, dtype: int64\n",
            "13   -------------------\n",
            "329950    13\n",
            "329951    13\n",
            "329952    13\n",
            "329953    13\n",
            "329954    13\n",
            "          ..\n",
            "372054    13\n",
            "372055    13\n",
            "372056    13\n",
            "372057    13\n",
            "372058    13\n",
            "Name: label, Length: 42109, dtype: int64\n",
            "14   -------------------\n",
            "372059    14\n",
            "372060    14\n",
            "372061    14\n",
            "372062    14\n",
            "372063    14\n",
            "          ..\n",
            "391170    14\n",
            "391171    14\n",
            "391172    14\n",
            "391173    14\n",
            "391174    14\n",
            "Name: label, Length: 19116, dtype: int64\n",
            "15   -------------------\n",
            "391175    15\n",
            "391176    15\n",
            "391177    15\n",
            "391178    15\n",
            "391179    15\n",
            "          ..\n",
            "405604    15\n",
            "405605    15\n",
            "405606    15\n",
            "405607    15\n",
            "405608    15\n",
            "Name: label, Length: 14434, dtype: int64\n",
            "16   -------------------\n",
            "405609    16\n",
            "405610    16\n",
            "405611    16\n",
            "405612    16\n",
            "405613    16\n",
            "          ..\n",
            "431900    16\n",
            "431901    16\n",
            "431902    16\n",
            "431903    16\n",
            "431904    16\n",
            "Name: label, Length: 26296, dtype: int64\n",
            "17   -------------------\n",
            "431905    17\n",
            "431906    17\n",
            "431907    17\n",
            "431908    17\n",
            "431909    17\n",
            "          ..\n",
            "458192    17\n",
            "458193    17\n",
            "458194    17\n",
            "458195    17\n",
            "458196    17\n",
            "Name: label, Length: 26292, dtype: int64\n"
          ]
        }
      ],
      "source": [
        "freqs = df['label'].value_counts()\n",
        "print(freqs)\n",
        "print('-----------------------')\n",
        "\n",
        "start = [0 for _ in range(18)]\n",
        "start[0] = 0\n",
        "for c in range(1,18):\n",
        "    start[c] += freqs[c-1] + start[c-1]  \n",
        "print(start)\n",
        "\n",
        "indexes = []# (mini , maxi+1) for all classes\n",
        "for c in range(18):\n",
        "    indexes.append(  (start[c] , start[c] + freqs[c]) )\n",
        "   \n",
        "print(indexes)\n",
        "\n",
        "\n",
        "for c in range(18):\n",
        "    print(c,' ','-------------------')\n",
        "    print(df.iloc[indexes[c][0]:indexes[c][1] , 1])"
      ]
    },
    {
      "cell_type": "code",
      "execution_count": null,
      "metadata": {
        "id": "ovYZbequqLen"
      },
      "outputs": [],
      "source": [
        "import numpy as np"
      ]
    },
    {
      "cell_type": "code",
      "execution_count": null,
      "metadata": {
        "id": "MVqyYzZfqUxt"
      },
      "outputs": [],
      "source": [
        "def sample_data (data , label ,intervals, r = 0.2):\n",
        "  data = np.array(data)\n",
        "  label = np.array(label)\n",
        "  ret = np.array([])\n",
        "  retl = np.array([])\n",
        "  for i in range(18):\n",
        "    l = intervals[i][0]\n",
        "    h = intervals[i][1]\n",
        "    index = np.random.choice(range(l,h), size = int((h-l) * r) , replace = False )\n",
        "    ret = np.concatenate((ret , data[index]), axis = 0)\n",
        "    retl = np.concatenate((retl , label[index]), axis = 0)\n",
        "\n",
        "  return ret,retl"
      ]
    },
    {
      "cell_type": "code",
      "execution_count": null,
      "metadata": {
        "id": "po5EyznStj1z"
      },
      "outputs": [],
      "source": [
        "import pickle\n",
        "from sklearn.manifold import TSNE\n",
        "import matplotlib.pyplot as plt\n",
        "from sklearn.model_selection import train_test_split\n",
        "from sklearn.decomposition import PCA, TruncatedSVD"
      ]
    },
    {
      "cell_type": "code",
      "execution_count": null,
      "metadata": {
        "colab": {
          "base_uri": "https://localhost:8080/"
        },
        "id": "E7IIyc09uDWV",
        "outputId": "e5d3339b-593c-429b-8277-96673471714f"
      },
      "outputs": [
        {
          "output_type": "stream",
          "name": "stderr",
          "text": [
            "/usr/local/lib/python3.7/dist-packages/sklearn/base.py:338: UserWarning: Trying to unpickle estimator CountVectorizer from version 0.23.2 when using version 1.0.2. This might lead to breaking code or invalid results. Use at your own risk. For more info please refer to:\n",
            "https://scikit-learn.org/stable/modules/model_persistence.html#security-maintainability-limitations\n",
            "  UserWarning,\n"
          ]
        }
      ],
      "source": [
        "vec = pickle.load(open('/content/drive/MyDrive/vectorizer.pkl', 'rb'))"
      ]
    },
    {
      "cell_type": "code",
      "execution_count": null,
      "metadata": {
        "id": "3DOChiHlulp0"
      },
      "outputs": [],
      "source": [
        "sample_corpus, sample_label = sample_data(corpus , labels, indexes , 0.1)"
      ]
    },
    {
      "cell_type": "code",
      "execution_count": null,
      "metadata": {
        "colab": {
          "base_uri": "https://localhost:8080/"
        },
        "id": "wA-fzuMUuFsq",
        "outputId": "679a09b6-0ea5-4e1b-c60e-41b9c4525cef"
      },
      "outputs": [
        {
          "output_type": "execute_result",
          "data": {
            "text/plain": [
              "(45810, 423285)"
            ]
          },
          "metadata": {},
          "execution_count": 9
        }
      ],
      "source": [
        "X = vec.transform(sample_corpus)\n",
        "X.shape"
      ]
    },
    {
      "cell_type": "code",
      "execution_count": null,
      "metadata": {
        "id": "rzPyO121ujDA"
      },
      "outputs": [],
      "source": [
        "reducer = TruncatedSVD(n_components= 1000)\n",
        "Z = reducer.fit_transform(X)\n",
        "#plt.scatter(Z[:,0] , Z[:,1] , c = sample_label)\n",
        "#plt.show()"
      ]
    },
    {
      "cell_type": "code",
      "source": [
        "#pickle.dump(reducer, open('reducer.pkl','wb'))"
      ],
      "metadata": {
        "id": "MklC7BYQ2hBi"
      },
      "execution_count": null,
      "outputs": []
    },
    {
      "cell_type": "code",
      "source": [
        "Z.shape"
      ],
      "metadata": {
        "colab": {
          "base_uri": "https://localhost:8080/"
        },
        "id": "RTu5hvzDtznb",
        "outputId": "3cc579a4-a714-45f9-ff40-4fbca89f601c"
      },
      "execution_count": null,
      "outputs": [
        {
          "output_type": "execute_result",
          "data": {
            "text/plain": [
              "(45810, 1000)"
            ]
          },
          "metadata": {},
          "execution_count": 12
        }
      ]
    },
    {
      "cell_type": "code",
      "execution_count": null,
      "metadata": {
        "id": "t6qgLu2Gne2t"
      },
      "outputs": [],
      "source": [
        "permute = np.random.permutation(Z.shape[0])\n",
        "Z = Z[permute]\n",
        "sample_label = sample_label[permute]"
      ]
    },
    {
      "cell_type": "code",
      "execution_count": null,
      "metadata": {
        "id": "MlIRLbtypTYN"
      },
      "outputs": [],
      "source": [
        "X_train, X_test, y_train, y_test = train_test_split(Z,sample_label, test_size=0.33, random_state=42)"
      ]
    },
    {
      "cell_type": "code",
      "source": [
        "X_train.shape,' ',y_train.shape"
      ],
      "metadata": {
        "colab": {
          "base_uri": "https://localhost:8080/"
        },
        "id": "DH724rpMutQO",
        "outputId": "9ff5205d-5d6d-406e-d1a1-5cab08ac71fa"
      },
      "execution_count": null,
      "outputs": [
        {
          "output_type": "execute_result",
          "data": {
            "text/plain": [
              "((30692, 1000), ' ', (30692,))"
            ]
          },
          "metadata": {},
          "execution_count": 15
        }
      ]
    },
    {
      "cell_type": "code",
      "execution_count": null,
      "metadata": {
        "id": "nLLWWrcqnGtj"
      },
      "outputs": [],
      "source": [
        "from sklearn.svm import SVC"
      ]
    },
    {
      "cell_type": "code",
      "source": [
        "from sklearn.metrics import classification_report, accuracy_score"
      ],
      "metadata": {
        "id": "v_0nkjgmAU4I"
      },
      "execution_count": null,
      "outputs": []
    },
    {
      "cell_type": "code",
      "source": [
        "model1 = SVC(kernel = 'linear')"
      ],
      "metadata": {
        "id": "dF8xmEt42E80"
      },
      "execution_count": null,
      "outputs": []
    },
    {
      "cell_type": "code",
      "source": [
        "model1.fit(X_train,y_train)"
      ],
      "metadata": {
        "colab": {
          "base_uri": "https://localhost:8080/"
        },
        "id": "OU1ul3jK2SRF",
        "outputId": "cac19890-1829-4ba0-fcfe-d5191d14fb91"
      },
      "execution_count": null,
      "outputs": [
        {
          "output_type": "execute_result",
          "data": {
            "text/plain": [
              "SVC(kernel='linear')"
            ]
          },
          "metadata": {},
          "execution_count": 19
        }
      ]
    },
    {
      "cell_type": "code",
      "source": [
        "predict1 = model1.predict(X_test)"
      ],
      "metadata": {
        "id": "_x22I49P-e0D"
      },
      "execution_count": null,
      "outputs": []
    },
    {
      "cell_type": "code",
      "source": [
        "Acc = accuracy_score(y_test,predict1)\n",
        "Acc"
      ],
      "metadata": {
        "colab": {
          "base_uri": "https://localhost:8080/"
        },
        "id": "8fo9vPm0072m",
        "outputId": "d5d90ff6-b253-4710-bc3f-2cdfce5b9afa"
      },
      "execution_count": null,
      "outputs": [
        {
          "output_type": "execute_result",
          "data": {
            "text/plain": [
              "0.3319883582484456"
            ]
          },
          "metadata": {},
          "execution_count": 22
        }
      ]
    },
    {
      "cell_type": "code",
      "source": [
        ""
      ],
      "metadata": {
        "id": "NhpGdD3CCmE6"
      },
      "execution_count": null,
      "outputs": []
    }
  ],
  "metadata": {
    "colab": {
      "collapsed_sections": [],
      "name": "SVM_TruncatedSVD.ipynb",
      "provenance": [],
      "mount_file_id": "11oNbiRdkAsrV6ngHm9qFU23nG6FOQQ2k",
      "authorship_tag": "ABX9TyOt+h/kDAVXCe1yNqSLR0fI",
      "include_colab_link": true
    },
    "kernelspec": {
      "display_name": "Python 3",
      "name": "python3"
    },
    "language_info": {
      "name": "python"
    }
  },
  "nbformat": 4,
  "nbformat_minor": 0
}