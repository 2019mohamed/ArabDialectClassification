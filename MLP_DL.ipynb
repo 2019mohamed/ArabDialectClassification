{
  "cells": [
    {
      "cell_type": "markdown",
      "metadata": {
        "id": "view-in-github",
        "colab_type": "text"
      },
      "source": [
        "<a href=\"https://colab.research.google.com/github/2019mohamed/ArabDialectClassification/blob/master/MLP_DL.ipynb\" target=\"_parent\"><img src=\"https://colab.research.google.com/assets/colab-badge.svg\" alt=\"Open In Colab\"/></a>"
      ]
    },
    {
      "cell_type": "code",
      "execution_count": null,
      "metadata": {
        "colab": {
          "base_uri": "https://localhost:8080/",
          "height": 424
        },
        "id": "WvimvDSTR8bt",
        "outputId": "28e2a3bd-5aaa-4d4f-e825-c4998ffacea1"
      },
      "outputs": [
        {
          "output_type": "execute_result",
          "data": {
            "text/html": [
              "\n",
              "  <div id=\"df-2c1d9329-37cd-4aad-99ed-e7b36ce383ab\">\n",
              "    <div class=\"colab-df-container\">\n",
              "      <div>\n",
              "<style scoped>\n",
              "    .dataframe tbody tr th:only-of-type {\n",
              "        vertical-align: middle;\n",
              "    }\n",
              "\n",
              "    .dataframe tbody tr th {\n",
              "        vertical-align: top;\n",
              "    }\n",
              "\n",
              "    .dataframe thead th {\n",
              "        text-align: right;\n",
              "    }\n",
              "</style>\n",
              "<table border=\"1\" class=\"dataframe\">\n",
              "  <thead>\n",
              "    <tr style=\"text-align: right;\">\n",
              "      <th></th>\n",
              "      <th>new_text</th>\n",
              "      <th>label</th>\n",
              "    </tr>\n",
              "  </thead>\n",
              "  <tbody>\n",
              "    <tr>\n",
              "      <th>0</th>\n",
              "      <td>بالنهايه ينتفض يغير</td>\n",
              "      <td>0</td>\n",
              "    </tr>\n",
              "    <tr>\n",
              "      <th>1</th>\n",
              "      <td>يعني محسوب البشر حيونه ووحشيه وتطلبون الغرب يح...</td>\n",
              "      <td>0</td>\n",
              "    </tr>\n",
              "    <tr>\n",
              "      <th>2</th>\n",
              "      <td>مبين كلامه خليجي</td>\n",
              "      <td>0</td>\n",
              "    </tr>\n",
              "    <tr>\n",
              "      <th>3</th>\n",
              "      <td>يسلملي مرورك وروحك الحلوه</td>\n",
              "      <td>0</td>\n",
              "    </tr>\n",
              "    <tr>\n",
              "      <th>4</th>\n",
              "      <td>وين الغيبه اخ محمد</td>\n",
              "      <td>0</td>\n",
              "    </tr>\n",
              "    <tr>\n",
              "      <th>...</th>\n",
              "      <td>...</td>\n",
              "      <td>...</td>\n",
              "    </tr>\n",
              "    <tr>\n",
              "      <th>458192</th>\n",
              "      <td>مبسوطين منك اللي باسطانا</td>\n",
              "      <td>17</td>\n",
              "    </tr>\n",
              "    <tr>\n",
              "      <th>458193</th>\n",
              "      <td>والله ماينده ابش يختي</td>\n",
              "      <td>17</td>\n",
              "    </tr>\n",
              "    <tr>\n",
              "      <th>458194</th>\n",
              "      <td>شو عملنا حنا تهربي مننا احنا مساكين ليش بتعملي...</td>\n",
              "      <td>17</td>\n",
              "    </tr>\n",
              "    <tr>\n",
              "      <th>458195</th>\n",
              "      <td>الله يبارك وبالعافيه</td>\n",
              "      <td>17</td>\n",
              "    </tr>\n",
              "    <tr>\n",
              "      <th>458196</th>\n",
              "      <td>السحله ضيفي بتطلع سحليه</td>\n",
              "      <td>17</td>\n",
              "    </tr>\n",
              "  </tbody>\n",
              "</table>\n",
              "<p>458197 rows × 2 columns</p>\n",
              "</div>\n",
              "      <button class=\"colab-df-convert\" onclick=\"convertToInteractive('df-2c1d9329-37cd-4aad-99ed-e7b36ce383ab')\"\n",
              "              title=\"Convert this dataframe to an interactive table.\"\n",
              "              style=\"display:none;\">\n",
              "        \n",
              "  <svg xmlns=\"http://www.w3.org/2000/svg\" height=\"24px\"viewBox=\"0 0 24 24\"\n",
              "       width=\"24px\">\n",
              "    <path d=\"M0 0h24v24H0V0z\" fill=\"none\"/>\n",
              "    <path d=\"M18.56 5.44l.94 2.06.94-2.06 2.06-.94-2.06-.94-.94-2.06-.94 2.06-2.06.94zm-11 1L8.5 8.5l.94-2.06 2.06-.94-2.06-.94L8.5 2.5l-.94 2.06-2.06.94zm10 10l.94 2.06.94-2.06 2.06-.94-2.06-.94-.94-2.06-.94 2.06-2.06.94z\"/><path d=\"M17.41 7.96l-1.37-1.37c-.4-.4-.92-.59-1.43-.59-.52 0-1.04.2-1.43.59L10.3 9.45l-7.72 7.72c-.78.78-.78 2.05 0 2.83L4 21.41c.39.39.9.59 1.41.59.51 0 1.02-.2 1.41-.59l7.78-7.78 2.81-2.81c.8-.78.8-2.07 0-2.86zM5.41 20L4 18.59l7.72-7.72 1.47 1.35L5.41 20z\"/>\n",
              "  </svg>\n",
              "      </button>\n",
              "      \n",
              "  <style>\n",
              "    .colab-df-container {\n",
              "      display:flex;\n",
              "      flex-wrap:wrap;\n",
              "      gap: 12px;\n",
              "    }\n",
              "\n",
              "    .colab-df-convert {\n",
              "      background-color: #E8F0FE;\n",
              "      border: none;\n",
              "      border-radius: 50%;\n",
              "      cursor: pointer;\n",
              "      display: none;\n",
              "      fill: #1967D2;\n",
              "      height: 32px;\n",
              "      padding: 0 0 0 0;\n",
              "      width: 32px;\n",
              "    }\n",
              "\n",
              "    .colab-df-convert:hover {\n",
              "      background-color: #E2EBFA;\n",
              "      box-shadow: 0px 1px 2px rgba(60, 64, 67, 0.3), 0px 1px 3px 1px rgba(60, 64, 67, 0.15);\n",
              "      fill: #174EA6;\n",
              "    }\n",
              "\n",
              "    [theme=dark] .colab-df-convert {\n",
              "      background-color: #3B4455;\n",
              "      fill: #D2E3FC;\n",
              "    }\n",
              "\n",
              "    [theme=dark] .colab-df-convert:hover {\n",
              "      background-color: #434B5C;\n",
              "      box-shadow: 0px 1px 3px 1px rgba(0, 0, 0, 0.15);\n",
              "      filter: drop-shadow(0px 1px 2px rgba(0, 0, 0, 0.3));\n",
              "      fill: #FFFFFF;\n",
              "    }\n",
              "  </style>\n",
              "\n",
              "      <script>\n",
              "        const buttonEl =\n",
              "          document.querySelector('#df-2c1d9329-37cd-4aad-99ed-e7b36ce383ab button.colab-df-convert');\n",
              "        buttonEl.style.display =\n",
              "          google.colab.kernel.accessAllowed ? 'block' : 'none';\n",
              "\n",
              "        async function convertToInteractive(key) {\n",
              "          const element = document.querySelector('#df-2c1d9329-37cd-4aad-99ed-e7b36ce383ab');\n",
              "          const dataTable =\n",
              "            await google.colab.kernel.invokeFunction('convertToInteractive',\n",
              "                                                     [key], {});\n",
              "          if (!dataTable) return;\n",
              "\n",
              "          const docLinkHtml = 'Like what you see? Visit the ' +\n",
              "            '<a target=\"_blank\" href=https://colab.research.google.com/notebooks/data_table.ipynb>data table notebook</a>'\n",
              "            + ' to learn more about interactive tables.';\n",
              "          element.innerHTML = '';\n",
              "          dataTable['output_type'] = 'display_data';\n",
              "          await google.colab.output.renderOutput(dataTable, element);\n",
              "          const docLink = document.createElement('div');\n",
              "          docLink.innerHTML = docLinkHtml;\n",
              "          element.appendChild(docLink);\n",
              "        }\n",
              "      </script>\n",
              "    </div>\n",
              "  </div>\n",
              "  "
            ],
            "text/plain": [
              "                                                 new_text  label\n",
              "0                                     بالنهايه ينتفض يغير      0\n",
              "1       يعني محسوب البشر حيونه ووحشيه وتطلبون الغرب يح...      0\n",
              "2                                        مبين كلامه خليجي      0\n",
              "3                               يسلملي مرورك وروحك الحلوه      0\n",
              "4                                      وين الغيبه اخ محمد      0\n",
              "...                                                   ...    ...\n",
              "458192                           مبسوطين منك اللي باسطانا     17\n",
              "458193                              والله ماينده ابش يختي     17\n",
              "458194  شو عملنا حنا تهربي مننا احنا مساكين ليش بتعملي...     17\n",
              "458195                               الله يبارك وبالعافيه     17\n",
              "458196                            السحله ضيفي بتطلع سحليه     17\n",
              "\n",
              "[458197 rows x 2 columns]"
            ]
          },
          "metadata": {},
          "execution_count": 1
        }
      ],
      "source": [
        "import pandas as pd\n",
        "df = pd.read_csv('/content/drive/MyDrive/two_clo_dialect_dataset.csv')\n",
        "df"
      ]
    },
    {
      "cell_type": "code",
      "execution_count": null,
      "metadata": {
        "id": "n3YtJTcPUNQu"
      },
      "outputs": [],
      "source": [
        "corpus = df['new_text'].astype('str').tolist()\n",
        "labels = df['label'].tolist()"
      ]
    },
    {
      "cell_type": "code",
      "execution_count": null,
      "metadata": {
        "id": "aun1XxfrUQW4"
      },
      "outputs": [],
      "source": [
        "import math\n",
        "import torch\n",
        "import torch.nn as nn\n",
        "import torch.nn.functional as F\n",
        "from torch.utils.data.sampler import SubsetRandomSampler , BatchSampler\n",
        "import pandas as pd\n",
        "from torch.utils.data import Dataset, DataLoader\n",
        "import torch.optim as optim\n",
        "import pickle\n",
        "from scipy.sparse import coo_matrix"
      ]
    },
    {
      "cell_type": "code",
      "execution_count": null,
      "metadata": {
        "colab": {
          "base_uri": "https://localhost:8080/"
        },
        "id": "UknoABeakVqN",
        "outputId": "4dbdec36-ad1c-4f2d-a8e8-add450e6e220"
      },
      "outputs": [
        {
          "output_type": "stream",
          "name": "stdout",
          "text": [
            "GPU\n"
          ]
        }
      ],
      "source": [
        "if torch.cuda.is_available():\n",
        "  device = torch.device('cuda:0')\n",
        "  print('GPU')\n",
        "else:\n",
        "  device = torch.device('cpu')\n",
        "  print('CPU')"
      ]
    },
    {
      "cell_type": "code",
      "execution_count": null,
      "metadata": {
        "colab": {
          "base_uri": "https://localhost:8080/"
        },
        "id": "4OXwKDGNUXbz",
        "outputId": "2fb1a134-29bd-4549-cb17-83c128f48b20"
      },
      "outputs": [
        {
          "output_type": "stream",
          "name": "stderr",
          "text": [
            "/usr/local/lib/python3.7/dist-packages/sklearn/base.py:338: UserWarning: Trying to unpickle estimator CountVectorizer from version 0.23.2 when using version 1.0.2. This might lead to breaking code or invalid results. Use at your own risk. For more info please refer to:\n",
            "https://scikit-learn.org/stable/modules/model_persistence.html#security-maintainability-limitations\n",
            "  UserWarning,\n"
          ]
        }
      ],
      "source": [
        "vec = pickle.load(open('/content/drive/MyDrive/vectorizer.pkl', 'rb'))"
      ]
    },
    {
      "cell_type": "code",
      "execution_count": null,
      "metadata": {
        "id": "KozrNb-QcVJc"
      },
      "outputs": [],
      "source": [
        "def get_index ():\n",
        "  freqs = df['label'].value_counts()\n",
        "\n",
        "  start = [0 for _ in range(18)]\n",
        "  start[0] = 0\n",
        "  for c in range(1,18):\n",
        "      start[c] += freqs[c-1] + start[c-1]  \n",
        "  indexes = []# (mini , maxi+1) for all classes\n",
        "  for c in range(18):\n",
        "      indexes.append(  (start[c] , start[c] + freqs[c]) )\n",
        "    \n",
        "  return indexes"
      ]
    },
    {
      "cell_type": "code",
      "execution_count": null,
      "metadata": {
        "id": "0PU2IFnRcYy0"
      },
      "outputs": [],
      "source": [
        "def sample_data (data , label ,intervals, lim = 1000):\n",
        "  data = np.array(data)\n",
        "  label = np.array(label)\n",
        "  ret = np.array([])\n",
        "  retl = np.array([])\n",
        "  for i in range(18):\n",
        "    l = intervals[i][0]\n",
        "    h = intervals[i][1]\n",
        "    index = np.random.choice(range(l,h), size = lim , replace = False )\n",
        "    ret = np.concatenate((ret , data[index]), axis = 0)\n",
        "    retl = np.concatenate((retl , label[index]), axis = 0)\n",
        "\n",
        "  return ret,retl"
      ]
    },
    {
      "cell_type": "code",
      "execution_count": null,
      "metadata": {
        "id": "QXUAZFWwclYD"
      },
      "outputs": [],
      "source": [
        "indexes = get_index()"
      ]
    },
    {
      "cell_type": "code",
      "source": [
        "import numpy as np"
      ],
      "metadata": {
        "id": "Qh27m-XsRWWi"
      },
      "execution_count": null,
      "outputs": []
    },
    {
      "cell_type": "code",
      "execution_count": null,
      "metadata": {
        "id": "M2FOzzE7lUWJ"
      },
      "outputs": [],
      "source": [
        "def get_best_features (x , k = 5000):\n",
        "  #we can do valence score, but, for simplicty doing that ...\n",
        "  n = x.shape[0]\n",
        "  m = x.shape[1]\n",
        "  sum_of_feat = []\n",
        "  for i in range(m):\n",
        "    sum_of_feat.append(np.sum(x[:,i]))\n",
        "\n",
        "  sum_of_feat = np.array(sum_of_feat)\n",
        "  indexs = sum_of_feat.argsort()[-k:]\n",
        "  return indexs"
      ]
    },
    {
      "cell_type": "code",
      "execution_count": null,
      "metadata": {
        "id": "c6G7wurNUgPY"
      },
      "outputs": [],
      "source": [
        "class SeqData (Dataset):\n",
        "    def __init__(self):\n",
        "      self.sample_corpus, self.sample_label = sample_data(corpus , labels, indexes , lim = 1000 )\n",
        "      self.X = vec.transform(self.sample_corpus)\n",
        "      self.important_indexs = get_best_features(self.X)\n",
        "      self.X = self.X[:,self.important_indexs]\n",
        "      self.cooX = coo_matrix(self.X) \n",
        "      self.tensor_X = torch.sparse_coo_tensor([self.cooX.row , self.cooX.col], self.cooX.data , dtype = torch.float) \n",
        "      self.dim = self.tensor_X.shape[1]\n",
        "    def __len__(self):\n",
        "      return len(self.sample_label)\n",
        "    def __getitem__(self, index):\n",
        "      return self.tensor_X[index] , self.sample_label[index]\n"
      ]
    },
    {
      "cell_type": "code",
      "execution_count": null,
      "metadata": {
        "id": "C0OU5AMnXKQf"
      },
      "outputs": [],
      "source": [
        "import numpy as np"
      ]
    },
    {
      "cell_type": "code",
      "execution_count": null,
      "metadata": {
        "id": "N4P7B-ezW_eC"
      },
      "outputs": [],
      "source": [
        "def split_rand(dataset,batch_size, split_ratio=0.7, seed=42, shuffle=True):\n",
        "    import math\n",
        "    num_entries = len(dataset)\n",
        "    indices = list(range(num_entries))\n",
        "    np.random.seed(seed)\n",
        "    np.random.shuffle(indices)\n",
        "    split = int(math.floor(split_ratio * num_entries))\n",
        "    train_idx, valid_idx = indices[:split], indices[split:]\n",
        "    \n",
        "    \n",
        "    train_sampler = SubsetRandomSampler(train_idx)\n",
        "    valid_sampler = SubsetRandomSampler(valid_idx)\n",
        "\n",
        "    train_loader = DataLoader(\n",
        "            dataset, sampler=train_sampler,\n",
        "            batch_size=batch_size)\n",
        "    \n",
        "    valid_loader = DataLoader(\n",
        "            dataset, sampler=valid_sampler,\n",
        "            batch_size=batch_size)\n",
        "\n",
        "    return train_loader, valid_loader"
      ]
    },
    {
      "cell_type": "code",
      "execution_count": null,
      "metadata": {
        "id": "qtV_SwR7XGpp"
      },
      "outputs": [],
      "source": [
        "def train(net, trainloader, optimizer, criterion):\n",
        "    net.train()\n",
        "\n",
        "    running_loss = 0\n",
        "    total_iters = len(trainloader)\n",
        "\n",
        "    for idx , data  in enumerate(trainloader):\n",
        "\n",
        "        x, labels= data\n",
        "        labels = labels.type(torch.LongTensor)\n",
        "        x = x.to(device)\n",
        "        labels = labels.to(device)\n",
        "        #print(x)\n",
        "        outputs = net(x)\n",
        "\n",
        "        loss = criterion(outputs, labels)\n",
        "        running_loss += loss.item()\n",
        "\n",
        "        # backprop\n",
        "        optimizer.zero_grad()\n",
        "        loss.backward()\n",
        "        optimizer.step()\n",
        "\n",
        "    running_loss = running_loss / total_iters\n",
        "\n",
        "    return running_loss"
      ]
    },
    {
      "cell_type": "code",
      "execution_count": null,
      "metadata": {
        "id": "jOPtny-sXRnv"
      },
      "outputs": [],
      "source": [
        "def eval_net(net, dataloader, criterion):\n",
        "    net.eval()\n",
        "\n",
        "    total = 0\n",
        "    total_loss = 0\n",
        "    total_correct = 0\n",
        "\n",
        "    for idx ,  data in enumerate(dataloader):\n",
        "        x, labels = data\n",
        "        labels = labels.type(torch.LongTensor)\n",
        "        \n",
        "        x = x.to(device)\n",
        "        labels = labels.to(device)\n",
        "\n",
        "        total += len(labels)\n",
        "        outputs = net(x.float())\n",
        "        _, predicted = torch.max(outputs.data, 1)\n",
        "\n",
        "        total_correct += (predicted == labels.data).sum().item()\n",
        "        loss = criterion(outputs, labels)\n",
        "        total_loss += loss.item() * len(labels)\n",
        "\n",
        "    loss, acc = 1.0*total_loss / total, 1.0*total_correct / total\n",
        "\n",
        "\n",
        "    return loss, acc"
      ]
    },
    {
      "cell_type": "code",
      "execution_count": null,
      "metadata": {
        "id": "VKyHShcpeudh"
      },
      "outputs": [],
      "source": [
        "class MLP(nn.Module):\n",
        "    \"\"\"MLP with linear output\"\"\"\n",
        "    def __init__(self, num_layers, input_dim, hidden_dim, output_dim):\n",
        "        \"\"\"MLP layers construction\n",
        "        Paramters\n",
        "        ---------\n",
        "        num_layers: int\n",
        "            The number of linear layers\n",
        "        input_dim: int\n",
        "            The dimensionality of input features\n",
        "        hidden_dim: int\n",
        "            The dimensionality of hidden units at ALL layers\n",
        "        output_dim: int\n",
        "            The number of classes for prediction\n",
        "        \"\"\"\n",
        "        super(MLP, self).__init__()\n",
        "        self.linear_or_not = True  # default is linear model\n",
        "        self.num_layers = num_layers\n",
        "        self.output_dim = output_dim\n",
        "\n",
        "        if num_layers < 1:\n",
        "            raise ValueError(\"number of layers should be positive!\")\n",
        "        elif num_layers == 1:\n",
        "            # Linear model\n",
        "            self.linear = nn.Linear(input_dim, output_dim)\n",
        "        else:\n",
        "            # Multi-layer model\n",
        "            self.linear_or_not = False\n",
        "            self.linears = torch.nn.ModuleList()\n",
        "            self.batch_norms = torch.nn.ModuleList()\n",
        "\n",
        "            self.linears.append(nn.Linear(input_dim, hidden_dim))\n",
        "            for layer in range(num_layers - 2):\n",
        "                self.linears.append(nn.Linear(hidden_dim, hidden_dim))\n",
        "            self.linears.append(nn.Linear(hidden_dim, output_dim))\n",
        "\n",
        "            #for layer in range(num_layers - 1):\n",
        "             #   self.batch_norms.append(nn.BatchNorm1d((hidden_dim)))\n",
        "\n",
        "    def forward(self, x):\n",
        "        if self.linear_or_not:\n",
        "            # If linear model\n",
        "            return self.linear(x)\n",
        "        else:\n",
        "            # If MLP\n",
        "            h = x\n",
        "            for i in range(self.num_layers - 1):\n",
        "                h = F.relu(self.linears[i](h))\n",
        "            return F.relu(self.linears[-1](h))"
      ]
    },
    {
      "cell_type": "code",
      "execution_count": null,
      "metadata": {
        "colab": {
          "base_uri": "https://localhost:8080/"
        },
        "id": "MDE0wxmAeGCn",
        "outputId": "24b017b7-0ef7-45be-9b04-d2559dc8220e"
      },
      "outputs": [
        {
          "output_type": "stream",
          "name": "stderr",
          "text": [
            "/usr/local/lib/python3.7/dist-packages/ipykernel_launcher.py:8: UserWarning: Creating a tensor from a list of numpy.ndarrays is extremely slow. Please consider converting the list to a single numpy.ndarray with numpy.array() before converting to a tensor. (Triggered internally at  ../torch/csrc/utils/tensor_new.cpp:201.)\n",
            "  \n"
          ]
        }
      ],
      "source": [
        "dataset = SeqData()"
      ]
    },
    {
      "cell_type": "code",
      "source": [
        "train_loader , test_loader = split_rand(dataset, batch_size = 16)"
      ],
      "metadata": {
        "id": "Ys6TtmwgOHGj"
      },
      "execution_count": null,
      "outputs": []
    },
    {
      "cell_type": "code",
      "execution_count": null,
      "metadata": {
        "id": "MjhCX_86fKAq",
        "colab": {
          "base_uri": "https://localhost:8080/"
        },
        "outputId": "7c239483-98cf-41a9-84c7-d4cd2c1b5738"
      },
      "outputs": [
        {
          "output_type": "execute_result",
          "data": {
            "text/plain": [
              "5000"
            ]
          },
          "metadata": {},
          "execution_count": 57
        }
      ],
      "source": [
        "dim = dataset.dim\n",
        "dim"
      ]
    },
    {
      "cell_type": "code",
      "source": [
        "import_i = dataset.important_indexs\n",
        "pickle.dump(import_i , open('important_indexs.pkl','wb'))\n",
        "import_i"
      ],
      "metadata": {
        "colab": {
          "base_uri": "https://localhost:8080/"
        },
        "id": "Q7youpvOcQR6",
        "outputId": "efd59773-756e-4dfb-dd8c-2c5dc5e1ebb4"
      },
      "execution_count": null,
      "outputs": [
        {
          "output_type": "execute_result",
          "data": {
            "text/plain": [
              "array([279614, 300436,  53293, ...,  63214,  50730,  50885])"
            ]
          },
          "metadata": {},
          "execution_count": 14
        }
      ]
    },
    {
      "cell_type": "code",
      "source": [
        "ii = pickle.load(open('important_indexs.pkl', 'rb'))\n",
        "ii"
      ],
      "metadata": {
        "colab": {
          "base_uri": "https://localhost:8080/"
        },
        "id": "_kAA08PM_8a_",
        "outputId": "77a5aec7-e20e-496a-f06b-4f0ef1e5fa43"
      },
      "execution_count": null,
      "outputs": [
        {
          "output_type": "execute_result",
          "data": {
            "text/plain": [
              "array([279614, 300436,  53293, ...,  63214,  50730,  50885])"
            ]
          },
          "metadata": {},
          "execution_count": 15
        }
      ]
    },
    {
      "cell_type": "code",
      "execution_count": null,
      "metadata": {
        "id": "RD49NaqAemqS"
      },
      "outputs": [],
      "source": [
        "model = MLP(2 ,dim ,1000,18).to(device)"
      ]
    },
    {
      "cell_type": "code",
      "execution_count": null,
      "metadata": {
        "id": "bnCm2lOtfRPb"
      },
      "outputs": [],
      "source": [
        "criterion = nn.CrossEntropyLoss()  \n",
        "optimizer = optim.Adam(model.parameters(), lr=0.001)"
      ]
    },
    {
      "cell_type": "code",
      "execution_count": null,
      "metadata": {
        "id": "PQsu2s5GfesQ"
      },
      "outputs": [],
      "source": [
        "train_loss = []\n",
        "test_loss = []\n",
        "test_acc = []"
      ]
    },
    {
      "cell_type": "code",
      "execution_count": null,
      "metadata": {
        "id": "GIn7015ZfVQg",
        "colab": {
          "base_uri": "https://localhost:8080/"
        },
        "outputId": "9363bd57-d2b0-4eed-8f4a-57e32f00f779"
      },
      "outputs": [
        {
          "output_type": "stream",
          "name": "stdout",
          "text": [
            "2.7800031591793\n",
            "2.7475320318010117   0.13037037037037036\n",
            "2.6380540698312864\n",
            "2.7626448263945402   0.13148148148148148\n",
            "2.564096712370209\n",
            "2.7884154874307137   0.13444444444444445\n",
            "2.5278112935233237\n",
            "2.808024442460802   0.13425925925925927\n",
            "2.4742248115805805\n",
            "2.8226112831963435   0.13314814814814815\n",
            "2.437658878601142\n",
            "2.8652142927381727   0.13666666666666666\n",
            "2.4257110081953446\n",
            "2.8723501279619006   0.13074074074074074\n",
            "2.4195674114723498\n",
            "2.9144906315980132   0.13203703703703704\n",
            "2.4163304593054775\n",
            "2.916302052250615   0.12481481481481481\n",
            "2.4162758699225897\n",
            "2.8952039082845054   0.12703703703703703\n"
          ]
        }
      ],
      "source": [
        "for _ in range(10):\n",
        "    tloss = train(model, train_loader, optimizer, criterion)\n",
        "    train_loss.append(tloss)\n",
        "    print(tloss)\n",
        "    \n",
        "    eloss, eacc= eval_net(model, test_loader, criterion)\n",
        "    test_loss.append(eloss)\n",
        "    test_acc.append(eacc)\n",
        "    print(eloss,' ',eacc)"
      ]
    },
    {
      "cell_type": "code",
      "execution_count": null,
      "metadata": {
        "id": "JDoaf9Stt8UG"
      },
      "outputs": [],
      "source": [
        "torch.save(model, 'MLP3.pth')"
      ]
    },
    {
      "cell_type": "code",
      "execution_count": null,
      "metadata": {
        "id": "N46e6QQ9JZmI"
      },
      "outputs": [],
      "source": [
        "the_model = torch.load('MLP3.pth')"
      ]
    },
    {
      "cell_type": "code",
      "execution_count": null,
      "metadata": {
        "id": "ZxBthcFYtkSk"
      },
      "outputs": [],
      "source": [
        "torch.save(model.state_dict(), 'MLP4.pth')"
      ]
    },
    {
      "cell_type": "code",
      "execution_count": null,
      "metadata": {
        "id": "m2oYLjgILmVp",
        "colab": {
          "base_uri": "https://localhost:8080/"
        },
        "outputId": "0970596e-25fc-4d6a-b7d4-7cd390169ca3"
      },
      "outputs": [
        {
          "output_type": "execute_result",
          "data": {
            "text/plain": [
              "<All keys matched successfully>"
            ]
          },
          "metadata": {},
          "execution_count": 68
        }
      ],
      "source": [
        "the_model1 = MLP(2 ,dim ,1000,18)\n",
        "the_model1.load_state_dict(torch.load('/content/drive/MyDrive/MLP4.pth'))"
      ]
    },
    {
      "cell_type": "code",
      "execution_count": null,
      "metadata": {
        "id": "RYww8S0KNCRi",
        "colab": {
          "base_uri": "https://localhost:8080/"
        },
        "outputId": "63e0e735-0ccf-40b6-8781-dd173ac99807"
      },
      "outputs": [
        {
          "output_type": "execute_result",
          "data": {
            "text/plain": [
              "MLP(\n",
              "  (linears): ModuleList(\n",
              "    (0): Linear(in_features=5000, out_features=1000, bias=True)\n",
              "    (1): Linear(in_features=1000, out_features=18, bias=True)\n",
              "  )\n",
              "  (batch_norms): ModuleList()\n",
              ")"
            ]
          },
          "metadata": {},
          "execution_count": 69
        }
      ],
      "source": [
        "the_model1.eval()"
      ]
    },
    {
      "cell_type": "code",
      "execution_count": null,
      "metadata": {
        "id": "TxnYfM_qNSDJ",
        "colab": {
          "base_uri": "https://localhost:8080/"
        },
        "outputId": "adae9f19-9054-4163-ab50-7a1077f1fa83"
      },
      "outputs": [
        {
          "output_type": "stream",
          "name": "stdout",
          "text": [
            "tensor([[1, 0, 7,  ..., 0, 3, 5]])\n"
          ]
        }
      ],
      "source": [
        "input = torch.randint(0,10,(1,5000))\n",
        "print(input)\n"
      ]
    },
    {
      "cell_type": "code",
      "execution_count": null,
      "metadata": {
        "id": "0HX0mKeaNmdY",
        "colab": {
          "base_uri": "https://localhost:8080/"
        },
        "outputId": "5d75ce1d-aa1a-4950-a913-4a1952e69bc1"
      },
      "outputs": [
        {
          "output_type": "execute_result",
          "data": {
            "text/plain": [
              "tensor([[0., 0., 0., 0., 0., 0., 0., 0., 0., 0., 0., 0., 0., 0., 0., 0., 0., 0.]],\n",
              "       grad_fn=<ReluBackward0>)"
            ]
          },
          "metadata": {},
          "execution_count": 71
        }
      ],
      "source": [
        "output = the_model1(input.float())\n",
        "output"
      ]
    },
    {
      "cell_type": "code",
      "execution_count": null,
      "metadata": {
        "id": "XX0dfakeN3DE",
        "colab": {
          "base_uri": "https://localhost:8080/"
        },
        "outputId": "4e03370e-6d31-446f-b92d-11de39cf6c91"
      },
      "outputs": [
        {
          "output_type": "execute_result",
          "data": {
            "text/plain": [
              "tensor([0])"
            ]
          },
          "metadata": {},
          "execution_count": 72
        }
      ],
      "source": [
        "_, predicted = torch.max(output.data, 1)\n",
        "predicted"
      ]
    },
    {
      "cell_type": "markdown",
      "source": [
        "Now, we will code the API for the model using flask framework"
      ],
      "metadata": {
        "id": "CqJnv_TiXwbE"
      }
    },
    {
      "cell_type": "code",
      "source": [
        "!pip install tashaphyne"
      ],
      "metadata": {
        "colab": {
          "base_uri": "https://localhost:8080/"
        },
        "id": "rqdSuUipWxX9",
        "outputId": "0d6994a0-c327-4614-d435-e1e379e8b1d2"
      },
      "execution_count": null,
      "outputs": [
        {
          "output_type": "stream",
          "name": "stdout",
          "text": [
            "Collecting tashaphyne\n",
            "  Downloading Tashaphyne-0.3.6-py3-none-any.whl (251 kB)\n",
            "\u001b[K     |████████████████████████████████| 251 kB 12.2 MB/s \n",
            "\u001b[?25hCollecting pyarabic\n",
            "  Downloading PyArabic-0.6.14-py3-none-any.whl (126 kB)\n",
            "\u001b[K     |████████████████████████████████| 126 kB 43.6 MB/s \n",
            "\u001b[?25hRequirement already satisfied: six>=1.14.0 in /usr/local/lib/python3.7/dist-packages (from pyarabic->tashaphyne) (1.15.0)\n",
            "Installing collected packages: pyarabic, tashaphyne\n",
            "Successfully installed pyarabic-0.6.14 tashaphyne-0.3.6\n"
          ]
        }
      ]
    },
    {
      "cell_type": "code",
      "source": [
        "!pip install pyarabic"
      ],
      "metadata": {
        "colab": {
          "base_uri": "https://localhost:8080/"
        },
        "id": "54Ume3D5X1Bd",
        "outputId": "07ca6828-c4b5-4a89-f475-760361964ce5"
      },
      "execution_count": null,
      "outputs": [
        {
          "output_type": "stream",
          "name": "stdout",
          "text": [
            "Requirement already satisfied: pyarabic in /usr/local/lib/python3.7/dist-packages (0.6.14)\n",
            "Requirement already satisfied: six>=1.14.0 in /usr/local/lib/python3.7/dist-packages (from pyarabic) (1.15.0)\n"
          ]
        }
      ]
    },
    {
      "cell_type": "code",
      "source": [
        "!pip install emoji "
      ],
      "metadata": {
        "colab": {
          "base_uri": "https://localhost:8080/"
        },
        "id": "JUPvo8NqX5aD",
        "outputId": "db858b9b-f3c5-4914-fbdd-bf9acef69d68"
      },
      "execution_count": null,
      "outputs": [
        {
          "output_type": "stream",
          "name": "stdout",
          "text": [
            "Collecting emoji\n",
            "  Downloading emoji-1.7.0.tar.gz (175 kB)\n",
            "\u001b[?25l\r\u001b[K     |█▉                              | 10 kB 26.9 MB/s eta 0:00:01\r\u001b[K     |███▊                            | 20 kB 30.3 MB/s eta 0:00:01\r\u001b[K     |█████▋                          | 30 kB 22.2 MB/s eta 0:00:01\r\u001b[K     |███████▌                        | 40 kB 12.1 MB/s eta 0:00:01\r\u001b[K     |█████████▍                      | 51 kB 11.0 MB/s eta 0:00:01\r\u001b[K     |███████████▏                    | 61 kB 12.7 MB/s eta 0:00:01\r\u001b[K     |█████████████                   | 71 kB 10.9 MB/s eta 0:00:01\r\u001b[K     |███████████████                 | 81 kB 11.9 MB/s eta 0:00:01\r\u001b[K     |████████████████▉               | 92 kB 13.0 MB/s eta 0:00:01\r\u001b[K     |██████████████████▊             | 102 kB 12.1 MB/s eta 0:00:01\r\u001b[K     |████████████████████▌           | 112 kB 12.1 MB/s eta 0:00:01\r\u001b[K     |██████████████████████▍         | 122 kB 12.1 MB/s eta 0:00:01\r\u001b[K     |████████████████████████▎       | 133 kB 12.1 MB/s eta 0:00:01\r\u001b[K     |██████████████████████████▏     | 143 kB 12.1 MB/s eta 0:00:01\r\u001b[K     |████████████████████████████    | 153 kB 12.1 MB/s eta 0:00:01\r\u001b[K     |█████████████████████████████▉  | 163 kB 12.1 MB/s eta 0:00:01\r\u001b[K     |███████████████████████████████▊| 174 kB 12.1 MB/s eta 0:00:01\r\u001b[K     |████████████████████████████████| 175 kB 12.1 MB/s \n",
            "\u001b[?25hBuilding wheels for collected packages: emoji\n",
            "  Building wheel for emoji (setup.py) ... \u001b[?25l\u001b[?25hdone\n",
            "  Created wheel for emoji: filename=emoji-1.7.0-py3-none-any.whl size=171046 sha256=c8668cd7a88f3a516259c5f6c0a822bfc8101e91d9771c936a3157d630aca64c\n",
            "  Stored in directory: /root/.cache/pip/wheels/8a/4e/b6/57b01db010d17ef6ea9b40300af725ef3e210cb1acfb7ac8b6\n",
            "Successfully built emoji\n",
            "Installing collected packages: emoji\n",
            "Successfully installed emoji-1.7.0\n"
          ]
        }
      ]
    },
    {
      "cell_type": "code",
      "source": [
        "import nltk\n",
        "nltk.download('stopwords')"
      ],
      "metadata": {
        "colab": {
          "base_uri": "https://localhost:8080/"
        },
        "id": "zv4msd_YX91n",
        "outputId": "ded93c16-31fb-42b7-c1f2-e345f9990512"
      },
      "execution_count": null,
      "outputs": [
        {
          "output_type": "stream",
          "name": "stdout",
          "text": [
            "[nltk_data] Downloading package stopwords to /root/nltk_data...\n",
            "[nltk_data]   Unzipping corpora/stopwords.zip.\n"
          ]
        },
        {
          "output_type": "execute_result",
          "data": {
            "text/plain": [
              "True"
            ]
          },
          "metadata": {},
          "execution_count": 8
        }
      ]
    },
    {
      "cell_type": "code",
      "source": [
        "nltk.download('punkt')"
      ],
      "metadata": {
        "colab": {
          "base_uri": "https://localhost:8080/"
        },
        "id": "ToUt1nplX_Kk",
        "outputId": "12bb88af-0971-4b86-8d91-0b25339f0eef"
      },
      "execution_count": null,
      "outputs": [
        {
          "output_type": "stream",
          "name": "stdout",
          "text": [
            "[nltk_data] Downloading package punkt to /root/nltk_data...\n",
            "[nltk_data]   Unzipping tokenizers/punkt.zip.\n"
          ]
        },
        {
          "output_type": "execute_result",
          "data": {
            "text/plain": [
              "True"
            ]
          },
          "metadata": {},
          "execution_count": 9
        }
      ]
    },
    {
      "cell_type": "code",
      "source": [
        "#Cleaning data\n",
        "\n",
        "from nltk.corpus import stopwords\n",
        "from textblob import TextBlob\n",
        "from tashaphyne.stemming import ArabicLightStemmer\n",
        "#from nltk.stem.isri import ISRIStemmer\n",
        "import pyarabic.araby as araby\n",
        "import re\n",
        "import emoji\n",
        "\n",
        "\n",
        "stops = set(stopwords.words(\"arabic\"))\n",
        "stop_word_comp = {\"،\",\"آض\",\"آمينَ\",\"آه\",\"آهاً\",\"آي\",\"أ\",\"أب\",\"أجل\",\"أجمع\",\"أخ\",\"أخذ\",\"أصبح\",\"أضحى\",\"أقبل\",\"أقل\",\"أكثر\",\"ألا\",\"أم\",\"أما\",\"أمامك\",\"أمامكَ\",\"أمسى\",\"أمّا\",\"أن\",\"أنا\",\"أنت\",\"أنتم\",\"أنتما\",\"أنتن\",\"أنتِ\",\"أنشأ\",\"أنّى\",\"أو\",\"أوشك\",\"أولئك\",\"أولئكم\",\"أولاء\",\"أولالك\",\"أوّهْ\",\"أي\",\"أيا\",\"أين\",\"أينما\",\"أيّ\",\"أَنَّ\",\"أََيُّ\",\"أُفٍّ\",\"إذ\",\"إذا\",\"إذاً\",\"إذما\",\"إذن\",\"إلى\",\"إليكم\",\"إليكما\",\"إليكنّ\",\"إليكَ\",\"إلَيْكَ\",\"إلّا\",\"إمّا\",\"إن\",\"إنّما\",\"إي\",\"إياك\",\"إياكم\",\"إياكما\",\"إياكن\",\"إيانا\",\"إياه\",\"إياها\",\"إياهم\",\"إياهما\",\"إياهن\",\"إياي\",\"إيهٍ\",\"إِنَّ\",\"ا\",\"ابتدأ\",\"اثر\",\"اجل\",\"احد\",\"اخرى\",\"اخلولق\",\"اذا\",\"اربعة\",\"ارتدّ\",\"استحال\",\"اطار\",\"اعادة\",\"اعلنت\",\"اف\",\"اكثر\",\"اكد\",\"الألاء\",\"الألى\",\"الا\",\"الاخيرة\",\"الان\",\"الاول\",\"الاولى\",\"التى\",\"التي\",\"الثاني\",\"الثانية\",\"الذاتي\",\"الذى\",\"الذي\",\"الذين\",\"السابق\",\"الف\",\"اللائي\",\"اللاتي\",\"اللتان\",\"اللتيا\",\"اللتين\",\"اللذان\",\"اللذين\",\"اللواتي\",\"الماضي\",\"المقبل\",\"الوقت\",\"الى\",\"اليوم\",\"اما\",\"امام\",\"امس\",\"ان\",\"انبرى\",\"انقلب\",\"انه\",\"انها\",\"او\",\"اول\",\"اي\",\"ايار\",\"ايام\",\"ايضا\",\"ب\",\"بات\",\"باسم\",\"بان\",\"بخٍ\",\"برس\",\"بسبب\",\"بسّ\",\"بشكل\",\"بضع\",\"بطآن\",\"بعد\",\"بعض\",\"بك\",\"بكم\",\"بكما\",\"بكن\",\"بل\",\"بلى\",\"بما\",\"بماذا\",\"بمن\",\"بن\",\"بنا\",\"به\",\"بها\",\"بي\",\"بيد\",\"بين\",\"بَسْ\",\"بَلْهَ\",\"بِئْسَ\",\"تانِ\",\"تانِك\",\"تبدّل\",\"تجاه\",\"تحوّل\",\"تلقاء\",\"تلك\",\"تلكم\",\"تلكما\",\"تم\",\"تينك\",\"تَيْنِ\",\"تِه\",\"تِي\",\"ثلاثة\",\"ثم\",\"ثمّ\",\"ثمّة\",\"ثُمَّ\",\"جعل\",\"جلل\",\"جميع\",\"جير\",\"حار\",\"حاشا\",\"حاليا\",\"حاي\",\"حتى\",\"حرى\",\"حسب\",\"حم\",\"حوالى\",\"حول\",\"حيث\",\"حيثما\",\"حين\",\"حيَّ\",\"حَبَّذَا\",\"حَتَّى\",\"حَذارِ\",\"خلا\",\"خلال\",\"دون\",\"دونك\",\"ذا\",\"ذات\",\"ذاك\",\"ذانك\",\"ذانِ\",\"ذلك\",\"ذلكم\",\"ذلكما\",\"ذلكن\",\"ذو\",\"ذوا\",\"ذواتا\",\"ذواتي\",\"ذيت\",\"ذينك\",\"ذَيْنِ\",\"ذِه\",\"ذِي\",\"راح\",\"رجع\",\"رويدك\",\"ريث\",\"رُبَّ\",\"زيارة\",\"سبحان\",\"سرعان\",\"سنة\",\"سنوات\",\"سوف\",\"سوى\",\"سَاءَ\",\"سَاءَمَا\",\"شبه\",\"شخصا\",\"شرع\",\"شَتَّانَ\",\"صار\",\"صباح\",\"صفر\",\"صهٍ\",\"صهْ\",\"ضد\",\"ضمن\",\"طاق\",\"طالما\",\"طفق\",\"طَق\",\"ظلّ\",\"عاد\",\"عام\",\"عاما\",\"عامة\",\"عدا\",\"عدة\",\"عدد\",\"عدم\",\"عسى\",\"عشر\",\"عشرة\",\"علق\",\"على\",\"عليك\",\"عليه\",\"عليها\",\"علًّ\",\"عن\",\"عند\",\"عندما\",\"عوض\",\"عين\",\"عَدَسْ\",\"عَمَّا\",\"غدا\",\"غير\",\"ـ\",\"ف\",\"فان\",\"فلان\",\"فو\",\"فى\",\"في\",\"فيم\",\"فيما\",\"فيه\",\"فيها\",\"قال\",\"قام\",\"قبل\",\"قد\",\"قطّ\",\"قلما\",\"قوة\",\"كأنّما\",\"كأين\",\"كأيّ\",\"كأيّن\",\"كاد\",\"كان\",\"كانت\",\"كذا\",\"كذلك\",\"كرب\",\"كل\",\"كلا\",\"كلاهما\",\"كلتا\",\"كلم\",\"كليكما\",\"كليهما\",\"كلّما\",\"كلَّا\",\"كم\",\"كما\",\"كي\",\"كيت\",\"كيف\",\"كيفما\",\"كَأَنَّ\",\"كِخ\",\"لئن\",\"لا\",\"لات\",\"لاسيما\",\"لدن\",\"لدى\",\"لعمر\",\"لقاء\",\"لك\",\"لكم\",\"لكما\",\"لكن\",\"لكنَّما\",\"لكي\",\"لكيلا\",\"للامم\",\"لم\",\"لما\",\"لمّا\",\"لن\",\"لنا\",\"له\",\"لها\",\"لو\",\"لوكالة\",\"لولا\",\"لوما\",\"لي\",\"لَسْتَ\",\"لَسْتُ\",\"لَسْتُم\",\"لَسْتُمَا\",\"لَسْتُنَّ\",\"لَسْتِ\",\"لَسْنَ\",\"لَعَلَّ\",\"لَكِنَّ\",\"لَيْتَ\",\"لَيْسَ\",\"لَيْسَا\",\"لَيْسَتَا\",\"لَيْسَتْ\",\"لَيْسُوا\",\"لَِسْنَا\",\"ما\",\"ماانفك\",\"مابرح\",\"مادام\",\"ماذا\",\"مازال\",\"مافتئ\",\"مايو\",\"متى\",\"مثل\",\"مذ\",\"مساء\",\"مع\",\"معاذ\",\"مقابل\",\"مكانكم\",\"مكانكما\",\"مكانكنّ\",\"مكانَك\",\"مليار\",\"مليون\",\"مما\",\"ممن\",\"من\",\"منذ\",\"منها\",\"مه\",\"مهما\",\"مَنْ\",\"مِن\",\"نحن\",\"نحو\",\"نعم\",\"نفس\",\"نفسه\",\"نهاية\",\"نَخْ\",\"نِعِمّا\",\"نِعْمَ\",\"ها\",\"هاؤم\",\"هاكَ\",\"هاهنا\",\"هبّ\",\"هذا\",\"هذه\",\"هكذا\",\"هل\",\"هلمَّ\",\"هلّا\",\"هم\",\"هما\",\"هن\",\"هنا\",\"هناك\",\"هنالك\",\"هو\",\"هي\",\"هيا\",\"هيت\",\"هيّا\",\"هَؤلاء\",\"هَاتانِ\",\"هَاتَيْنِ\",\"هَاتِه\",\"هَاتِي\",\"هَجْ\",\"هَذا\",\"هَذانِ\",\"هَذَيْنِ\",\"هَذِه\",\"هَذِي\",\"هَيْهَاتَ\",\"و\",\"و6\",\"وا\",\"واحد\",\"واضاف\",\"واضافت\",\"واكد\",\"وان\",\"واهاً\",\"واوضح\",\"وراءَك\",\"وفي\",\"وقال\",\"وقالت\",\"وقد\",\"وقف\",\"وكان\",\"وكانت\",\"ولا\",\"ولم\",\"ومن\",\"مَن\",\"وهو\",\"وهي\",\"ويكأنّ\",\"وَيْ\",\"وُشْكَانََ\",\"يكون\",\"يمكن\",\"يوم\",\"ّأيّان\"}\n",
        "ArListem = ArabicLightStemmer()\n",
        "\n",
        "def stem(text):\n",
        "    zen = TextBlob(text)\n",
        "    words = zen.words\n",
        "    cleaned = list()\n",
        "    for w in words:\n",
        "        ArListem.light_stem(w)\n",
        "        cleaned.append(ArListem.get_root())\n",
        "    return \" \".join(cleaned)\n",
        "\n",
        "def remove_stop_words(text):\n",
        "    zen = TextBlob(text)\n",
        "    words = zen.words\n",
        "    return \" \".join([w for w in words if not w in stops and not w in stop_word_comp and len(w) >= 2])\n",
        "\n",
        "\n",
        "def normalizeArabic(text):\n",
        "    text = text.strip()\n",
        "    text = re.sub(\"[إأٱآا]\", \"ا\", text)\n",
        "    text = re.sub(\"ى\", \"ي\", text)\n",
        "    text = re.sub(\"ؤ\", \"ء\", text)\n",
        "    text = re.sub(\"ئ\", \"ء\", text)\n",
        "    text = re.sub(\"ة\", \"ه\", text)\n",
        "    noise = re.compile(\"\"\" ّ    | # Tashdid\n",
        "                             َ    | # Fatha\n",
        "                             ً    | # Tanwin Fath\n",
        "                             ُ    | # Damma\n",
        "                             ٌ    | # Tanwin Damm\n",
        "                             ِ    | # Kasra\n",
        "                             ٍ    | # Tanwin Kasr\n",
        "                             ْ    | # Sukun\n",
        "                             ـ     # Tatwil/Kashida\n",
        "                         \"\"\", re.VERBOSE)\n",
        "    text = re.sub(noise, '', text)\n",
        "    text = re.sub(r'(.)\\1+', r\"\\1\\1\", text) # Remove longation\n",
        "    return araby.strip_tashkeel(text)\n",
        "\n",
        "def extract_hashtag(text):\n",
        "    \n",
        "    hash_list = ([re.sub(r\"(\\W+)$\", \"\", i) for i in text.split() if i.startswith(\"#\")])\n",
        "    word_list = []\n",
        "    for word in hash_list :\n",
        "        word_list.extend(split_hashtag_to_words(word))\n",
        "    return word_list\n",
        "\n",
        "def split_hashtag_to_words(tag):\n",
        "    tag = tag.replace('#','')\n",
        "    tags = tag.split('_')\n",
        "    if len(tags) > 1 :\n",
        "        \n",
        "        return tags\n",
        "    pattern = re.compile(r\"[A-Z][a-z]+|\\d+|[A-Z]+(?![a-z])\")\n",
        "    return pattern.findall(tag)\n",
        "\n",
        "def clean_hashtag(text):\n",
        "    words = text.split()\n",
        "    text = list()\n",
        "    for word in words:\n",
        "        if is_hashtag(word):\n",
        "            text.extend(extract_hashtag(word))\n",
        "        else:\n",
        "            text.append(word)\n",
        "    return \" \".join(text)\n",
        "\n",
        "def is_hashtag(word):\n",
        "    if word.startswith(\"#\"):\n",
        "        return True\n",
        "    else:\n",
        "        return False\n",
        "    \n",
        "def remove_emoji(text):\n",
        "    emoji_pattern = re.compile(\"[\"\n",
        "                                   u\"\\U0001F600-\\U0001F64F\"  # emoticons\n",
        "                                   u\"\\U0001F300-\\U0001F5FF\"  # symbols & pictographs\n",
        "                                   u\"\\U0001F680-\\U0001F6FF\"  # transport & map symbols\n",
        "                                   u\"\\U0001F1E0-\\U0001F1FF\"  # flags (iOS)\n",
        "                                   u\"\\U00002702-\\U000027B0\"\n",
        "                                   u\"\\U000024C2-\\U0001F251\"\n",
        "                                   u\"\\U00002700-\\U000027BF\"  # Dingbats\n",
        "                                   u\"\\U00002600-\\U000026FF\"  # Miscellaneous Symbols\n",
        "                                   u\"\\U0001F900-\\U0001F9FF\"  # Supplemental Symbols and Pictographs\n",
        "                                   u\"\\U0001FA70-\\U0001FAFF\"  # Symbols and Pictographs Extended-A\n",
        "                                   \"]+\", flags=re.UNICODE)\n",
        "    text = emoji_pattern.sub(r'', text)\n",
        "    text = emoji.demojize(text)\n",
        "    return text\n",
        "  \n",
        "def clean_tweet(text):\n",
        "    text = re.sub('#\\d+K\\d+', ' ', text)  # years like 2K19\n",
        "    text = re.sub('http\\S+\\s*', ' ', text)  # remove URLs\n",
        "    text = re.sub('RT|cc', ' ', text)  # remove RT and cc\n",
        "    text = re.sub('@[^\\s]+',' ',text)\n",
        "    text = clean_hashtag(text)\n",
        "    text = remove_emoji(text)\n",
        "    return text\n",
        "\n",
        "\n",
        "    \n",
        "def clean_text (text):\n",
        "    ## Clean for tweets\n",
        "    text = clean_tweet(text)\n",
        "    ## Remove punctuations\n",
        "    text = re.sub('[%s]' % re.escape(\"\"\"!\"#$%&'()*+,،-./:;<=>؟?@[\\]^_`{|}~\"\"\"), ' ', text)  # remove punctuation\n",
        "    ## remove extra whitespace\n",
        "    text = re.sub('\\s+', ' ', text)  \n",
        "    ## Remove stop words\n",
        "    text = remove_stop_words(text)\n",
        "    ## Remove numbers\n",
        "    text = re.sub(\"\\d+\", \" \", text)\n",
        "    ## Remove Tashkeel\n",
        "    text = normalizeArabic(text)\n",
        "    \n",
        "    text = re.sub('[A-Za-z]+',' ',text)\n",
        "    \n",
        "    text = re.sub(r'\\\\u[A-Za-z0-9\\\\]+',' ',text)\n",
        "    ## remove extra whitespace\n",
        "    text = re.sub('\\s+', ' ', text)  \n",
        "    #Stemming may it is not important in the task!, for chractrize the dialects.\n",
        "    #text = stem(text)\n",
        "    return text"
      ],
      "metadata": {
        "id": "l5yTQmpSYDfF"
      },
      "execution_count": null,
      "outputs": []
    },
    {
      "cell_type": "code",
      "source": [
        "!pip install flask-ngrok"
      ],
      "metadata": {
        "colab": {
          "base_uri": "https://localhost:8080/"
        },
        "id": "q3URUj-gYJGU",
        "outputId": "49d18c88-8dae-4cad-ef61-18a5456fcca3"
      },
      "execution_count": null,
      "outputs": [
        {
          "output_type": "stream",
          "name": "stdout",
          "text": [
            "Collecting flask-ngrok\n",
            "  Downloading flask_ngrok-0.0.25-py3-none-any.whl (3.1 kB)\n",
            "Requirement already satisfied: Flask>=0.8 in /usr/local/lib/python3.7/dist-packages (from flask-ngrok) (1.1.4)\n",
            "Requirement already satisfied: requests in /usr/local/lib/python3.7/dist-packages (from flask-ngrok) (2.23.0)\n",
            "Requirement already satisfied: Werkzeug<2.0,>=0.15 in /usr/local/lib/python3.7/dist-packages (from Flask>=0.8->flask-ngrok) (1.0.1)\n",
            "Requirement already satisfied: click<8.0,>=5.1 in /usr/local/lib/python3.7/dist-packages (from Flask>=0.8->flask-ngrok) (7.1.2)\n",
            "Requirement already satisfied: Jinja2<3.0,>=2.10.1 in /usr/local/lib/python3.7/dist-packages (from Flask>=0.8->flask-ngrok) (2.11.3)\n",
            "Requirement already satisfied: itsdangerous<2.0,>=0.24 in /usr/local/lib/python3.7/dist-packages (from Flask>=0.8->flask-ngrok) (1.1.0)\n",
            "Requirement already satisfied: MarkupSafe>=0.23 in /usr/local/lib/python3.7/dist-packages (from Jinja2<3.0,>=2.10.1->Flask>=0.8->flask-ngrok) (2.0.1)\n",
            "Requirement already satisfied: certifi>=2017.4.17 in /usr/local/lib/python3.7/dist-packages (from requests->flask-ngrok) (2021.10.8)\n",
            "Requirement already satisfied: urllib3!=1.25.0,!=1.25.1,<1.26,>=1.21.1 in /usr/local/lib/python3.7/dist-packages (from requests->flask-ngrok) (1.24.3)\n",
            "Requirement already satisfied: chardet<4,>=3.0.2 in /usr/local/lib/python3.7/dist-packages (from requests->flask-ngrok) (3.0.4)\n",
            "Requirement already satisfied: idna<3,>=2.5 in /usr/local/lib/python3.7/dist-packages (from requests->flask-ngrok) (2.10)\n",
            "Installing collected packages: flask-ngrok\n",
            "Successfully installed flask-ngrok-0.0.25\n"
          ]
        }
      ]
    },
    {
      "cell_type": "code",
      "source": [
        "def load_embedding ():\n",
        "    vec = pickle.load(open('/content/drive/MyDrive/vectorizer.pkl', 'rb'))\n",
        "    return vec"
      ],
      "metadata": {
        "id": "4_QaYhA4YMMg"
      },
      "execution_count": null,
      "outputs": []
    },
    {
      "cell_type": "code",
      "source": [
        "labels = {'IQ': 0, 'LY': 1, 'QA': 2, 'PL': 3, 'SY': 4\n",
        "          , 'TN': 5, 'JO': 6, 'MA': 7, 'SA': 8, 'YE': 9, 'DZ': 10, 'EG': 11,\n",
        "          'LB': 12, 'KW': 13, 'OM': 14, 'SD': 15, 'AE': 16, 'BH': 17}\n",
        "langs = {v:k for k,v in labels.items()}"
      ],
      "metadata": {
        "id": "T2akDsNlYYzx"
      },
      "execution_count": null,
      "outputs": []
    },
    {
      "cell_type": "code",
      "source": [
        "def reduce (copus , vec , ii):\n",
        "    X = vec.transform(copus)\n",
        "    X = X[:, ii]\n",
        "    X = coo_matrix(X)\n",
        "    v = X.data\n",
        "    i = np.vstack((X.row , X.col))\n",
        "    v = torch.FloatTensor(v)\n",
        "    i = torch.LongTensor(i)\n",
        "    #tensor_X = torch.sparse_coo_tensor([X.row , X.col],X.data , dtype = torch.float)\n",
        "    tensor_X = torch.sparse.FloatTensor(i , v, torch.Size(X.shape) ).to_dense()\n",
        "    return tensor_X"
      ],
      "metadata": {
        "id": "2zypluRJY5qV"
      },
      "execution_count": null,
      "outputs": []
    },
    {
      "cell_type": "code",
      "source": [
        "from flask import Flask, jsonify, request\n",
        "from flask_ngrok import run_with_ngrok\n",
        "\n",
        "app = Flask(__name__)\n",
        "run_with_ngrok(app)\n",
        "\n",
        "@app.route(\"/DL\" , methods = ['POST'])\n",
        "def DL():\n",
        "  data = request.json\n",
        "  copus = [clean_text(text) for text in data]\n",
        "  vec = load_embedding()\n",
        "  ii = pickle.load(open('important_indexs.pkl', 'rb'))\n",
        "  MLP_DL = MLP(2 ,len(ii) ,1000,18)\n",
        "  MLP_DL.load_state_dict(torch.load('/content/drive/MyDrive/MLP4.pth'))\n",
        "  MLP_DL.eval()\n",
        "  X = reduce(copus , vec , ii)\n",
        "  output = MLP_DL(X.float())\n",
        "  _, predicted = torch.max(output.data, 1)\n",
        "  labels = predicted.detach().numpy()\n",
        "  out = [langs[l] for l in labels]\n",
        "  return jsonify(out)\n",
        "app.run()"
      ],
      "metadata": {
        "colab": {
          "base_uri": "https://localhost:8080/"
        },
        "id": "or6dMTMpYf1H",
        "outputId": "b22f9236-49dd-465c-f54f-a657f74cc928"
      },
      "execution_count": null,
      "outputs": [
        {
          "output_type": "stream",
          "name": "stdout",
          "text": [
            " * Serving Flask app \"__main__\" (lazy loading)\n",
            " * Environment: production\n",
            "\u001b[31m   WARNING: This is a development server. Do not use it in a production deployment.\u001b[0m\n",
            "\u001b[2m   Use a production WSGI server instead.\u001b[0m\n",
            " * Debug mode: off\n"
          ]
        },
        {
          "output_type": "stream",
          "name": "stderr",
          "text": [
            " * Running on http://127.0.0.1:5000/ (Press CTRL+C to quit)\n"
          ]
        },
        {
          "output_type": "stream",
          "name": "stdout",
          "text": [
            " * Running on http://6e87-35-205-41-32.ngrok.io\n",
            " * Traffic stats available on http://127.0.0.1:4040\n"
          ]
        },
        {
          "output_type": "stream",
          "name": "stderr",
          "text": [
            "/usr/local/lib/python3.7/dist-packages/sklearn/base.py:338: UserWarning: Trying to unpickle estimator CountVectorizer from version 0.23.2 when using version 1.0.2. This might lead to breaking code or invalid results. Use at your own risk. For more info please refer to:\n",
            "https://scikit-learn.org/stable/modules/model_persistence.html#security-maintainability-limitations\n",
            "  UserWarning,\n",
            "127.0.0.1 - - [10/Mar/2022 11:38:22] \"\u001b[37mPOST //DL HTTP/1.1\u001b[0m\" 200 -\n"
          ]
        }
      ]
    }
  ],
  "metadata": {
    "accelerator": "GPU",
    "colab": {
      "collapsed_sections": [],
      "name": "MLP_DL.ipynb",
      "provenance": [],
      "mount_file_id": "1PvusbziM38fNZF8eEs67g8FuLag4Qfzl",
      "authorship_tag": "ABX9TyPsXMtI0BvfTAkg9qRaxFQb",
      "include_colab_link": true
    },
    "kernelspec": {
      "display_name": "Python 3",
      "name": "python3"
    },
    "language_info": {
      "name": "python"
    }
  },
  "nbformat": 4,
  "nbformat_minor": 0
}